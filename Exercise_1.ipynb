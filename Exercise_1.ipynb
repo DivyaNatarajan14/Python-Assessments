{
  "nbformat": 4,
  "nbformat_minor": 0,
  "metadata": {
    "colab": {
      "provenance": []
    },
    "kernelspec": {
      "name": "python3",
      "display_name": "Python 3"
    },
    "language_info": {
      "name": "python"
    }
  },
  "cells": [
    {
      "cell_type": "markdown",
      "source": [
        "Square root of a number"
      ],
      "metadata": {
        "id": "Lzzj9Si56XuR"
      }
    },
    {
      "cell_type": "code",
      "execution_count": 1,
      "metadata": {
        "colab": {
          "base_uri": "https://localhost:8080/"
        },
        "id": "Vx5Xuunh6OC7",
        "outputId": "3a2844a4-c01e-46e4-de64-d9a712127c0b"
      },
      "outputs": [
        {
          "output_type": "stream",
          "name": "stdout",
          "text": [
            "Enter a number: 7\n",
            "The square root of a given number 7.0 is 2.6457513110645907\n"
          ]
        }
      ],
      "source": [
        "num = float(input(\"Enter a number: \"))\n",
        "Sqrt_root = num**0.5\n",
        "print(\"The square root of a given number {} is {}\". format(num,Sqrt_root))"
      ]
    },
    {
      "cell_type": "markdown",
      "source": [
        "Calculate area of the triangle"
      ],
      "metadata": {
        "id": "pHuIDlpN8WkZ"
      }
    },
    {
      "cell_type": "code",
      "source": [
        "a = float(input(\"enter the value1\"))\n",
        "b = float(input(\"enter the value2\"))\n",
        "c = float(input(\"enter the value3\"))\n",
        "s = (a+b+c)/2\n",
        "area =(s*(s-a)*(s-b)*(s-c))**0.5\n",
        "print(\"The area of the triangle is \",area)"
      ],
      "metadata": {
        "id": "yxLi7hsv8VwJ"
      },
      "execution_count": null,
      "outputs": []
    },
    {
      "cell_type": "markdown",
      "source": [
        "Quadratic equation"
      ],
      "metadata": {
        "id": "4MoHWwrb_XuG"
      }
    },
    {
      "cell_type": "code",
      "source": [
        "x = float(input(\"enter the value1\"))\n",
        "y = float(input(\"enter the value2\"))\n",
        "c = float(input(\"enter the value3\"))\n",
        "s = (3*(x**2)+(4*y)-c\n",
        "print(\" s value is \",s)"
      ],
      "metadata": {
        "id": "n_rA6kjh_WsP"
      },
      "execution_count": null,
      "outputs": []
    },
    {
      "cell_type": "markdown",
      "source": [
        "Celsius to Fahrenheit"
      ],
      "metadata": {
        "id": "TFJXkRCzA7OC"
      }
    },
    {
      "cell_type": "code",
      "source": [
        "x = float(input(\"enter the Celsius\"))\n",
        "fahrenheit = (x* 1.8)+32\n",
        "print(\"the Fahrenheit value is \", fahrenheit)"
      ],
      "metadata": {
        "id": "iR_7qXF_A6i0"
      },
      "execution_count": null,
      "outputs": []
    },
    {
      "cell_type": "markdown",
      "source": [
        "Swap two variables"
      ],
      "metadata": {
        "id": "9NCtQsRkEajp"
      }
    },
    {
      "cell_type": "code",
      "source": [
        "a,b=4,3\n",
        "c=a\n",
        "a=b\n",
        "b=c\n",
        "print(a,b)"
      ],
      "metadata": {
        "id": "j39TZ6oAEeXQ",
        "colab": {
          "base_uri": "https://localhost:8080/"
        },
        "outputId": "2ad72ee7-335f-4a47-f68e-0d4f29ebc10c"
      },
      "execution_count": 5,
      "outputs": [
        {
          "output_type": "stream",
          "name": "stdout",
          "text": [
            "3 4\n"
          ]
        }
      ]
    }
  ]
}