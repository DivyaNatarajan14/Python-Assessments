{
  "cells": [
    {
      "cell_type": "markdown",
      "source": [
        "Program to check 4 digit number is armstrong or not"
      ],
      "metadata": {
        "id": "emrEZRu6PYMD"
      }
    },
    {
      "cell_type": "code",
      "execution_count": null,
      "metadata": {
        "colab": {
          "base_uri": "https://localhost:8080/"
        },
        "id": "6jOzEq5MVSJH",
        "outputId": "5fa5dcda-cef8-46d5-a365-dfc679ee9d7d"
      },
      "outputs": [
        {
          "name": "stdout",
          "output_type": "stream",
          "text": [
            "enter the number1634\n",
            "it is armstrong 1634\n"
          ]
        }
      ],
      "source": [
        "a= int(input(\"enter the number\"))\n",
        "m=a\n",
        "sum=0\n",
        "while m>0:\n",
        "  b = m%10\n",
        "  d = m%10\n",
        "  sum = sum + d**4\n",
        "  m = m//10\n",
        "if (a==sum):\n",
        "    print (\"it is armstrong\",a)\n",
        "else:\n",
        "    print(\"not an armstrong\",a)\n"
      ]
    },
    {
      "cell_type": "markdown",
      "source": [
        "Program to reverse the given number by using slicing technique"
      ],
      "metadata": {
        "id": "OByGGjjsPuDx"
      }
    },
    {
      "cell_type": "code",
      "execution_count": null,
      "metadata": {
        "colab": {
          "base_uri": "https://localhost:8080/"
        },
        "id": "-bYNOh2leEF2",
        "outputId": "5564f1ee-f045-4681-9088-5fa675fd9a50"
      },
      "outputs": [
        {
          "name": "stdout",
          "output_type": "stream",
          "text": [
            "enter the num678\n",
            "876\n"
          ]
        }
      ],
      "source": [
        "o = int(input(\"enter the num\"))\n",
        "z= str(o)\n",
        "\n",
        "print(z[::-1])"
      ]
    },
    {
      "cell_type": "markdown",
      "source": [
        "Program to check the given number is palindrome or not"
      ],
      "metadata": {
        "id": "-PJ1kth0P3Xb"
      }
    },
    {
      "cell_type": "code",
      "execution_count": null,
      "metadata": {
        "colab": {
          "base_uri": "https://localhost:8080/"
        },
        "id": "H8qY5LPtbNRj",
        "outputId": "c2d66e36-0346-4f00-aa8a-9ce5dd144a26"
      },
      "outputs": [
        {
          "name": "stdout",
          "output_type": "stream",
          "text": [
            "enter the number16461\n",
            "the given number is palindrome 16461\n"
          ]
        }
      ],
      "source": [
        "a= int(input(\"enter the number\"))\n",
        "m=a\n",
        "rev=0\n",
        "while m>0:\n",
        "  d = m%10\n",
        "  rev = rev*10 + d\n",
        "  m = m//10\n",
        "if (a==rev):\n",
        "   print( \"the given number is palindrome\", a)\n",
        "else:\n",
        "    print(\"not palindrome\",a)\n"
      ]
    },
    {
      "cell_type": "markdown",
      "source": [
        "Program to print the element in the list"
      ],
      "metadata": {
        "id": "eG46tMwZQGj0"
      }
    },
    {
      "cell_type": "code",
      "execution_count": null,
      "metadata": {
        "colab": {
          "base_uri": "https://localhost:8080/",
          "height": 36
        },
        "id": "zrlcyGqsK1Cv",
        "outputId": "1a2856f1-96b8-4e2f-ad05-e279afd7a6d0"
      },
      "outputs": [
        {
          "data": {
            "application/vnd.google.colaboratory.intrinsic+json": {
              "type": "string"
            },
            "text/plain": [
              "'pink'"
            ]
          },
          "execution_count": 7,
          "metadata": {},
          "output_type": "execute_result"
        }
      ],
      "source": [
        "colors=[\"red\",\"green\",\"pink\",\"blue\"]\n",
        "colors[2]\n"
      ]
    },
    {
      "cell_type": "markdown",
      "source": [
        "Program to use the copy function in the given set"
      ],
      "metadata": {
        "id": "g58ivaq-QWvV"
      }
    },
    {
      "cell_type": "code",
      "execution_count": 1,
      "metadata": {
        "colab": {
          "base_uri": "https://localhost:8080/"
        },
        "id": "VJ-W4kyfLjdJ",
        "outputId": "6b63ed71-8205-4848-d3f2-28af07b9298f"
      },
      "outputs": [
        {
          "output_type": "execute_result",
          "data": {
            "text/plain": [
              "{1, 'hi', 'well'}"
            ]
          },
          "metadata": {},
          "execution_count": 1
        }
      ],
      "source": [
        " c={1,\"hi\",\"well\"}\n",
        " type(c)\n",
        " d=c.copy()\n",
        " d"
      ]
    },
    {
      "cell_type": "markdown",
      "source": [
        "Program to check the key value present in the given dictionary by using get() using None"
      ],
      "metadata": {
        "id": "UqXWgYozQg1L"
      }
    },
    {
      "cell_type": "code",
      "source": [
        "ae1={'b':12, 'c':13, 'd':14}\n",
        "if ae1.get('b')==None:\n",
        "  print(\"the key is not present\")\n",
        "else:\n",
        "  print(\"the key is present\")"
      ],
      "metadata": {
        "colab": {
          "base_uri": "https://localhost:8080/"
        },
        "id": "tPw67Yfl_bLX",
        "outputId": "55ef626f-fb6b-42e1-e330-eb6804ee1029"
      },
      "execution_count": null,
      "outputs": [
        {
          "output_type": "stream",
          "name": "stdout",
          "text": [
            "the key is present\n"
          ]
        }
      ]
    },
    {
      "cell_type": "code",
      "source": [
        "dic = {'a': 100, 'b':200, 'c':300}\n",
        "if dic.get('b') == False:\n",
        "  print(\"Not Present\")\n",
        "else:\n",
        "  print(\"Present\")\n"
      ],
      "metadata": {
        "colab": {
          "base_uri": "https://localhost:8080/"
        },
        "id": "VvztO6EYCx6Z",
        "outputId": "efab6220-e702-4d12-b9db-427251241ae1"
      },
      "execution_count": null,
      "outputs": [
        {
          "output_type": "stream",
          "name": "stdout",
          "text": [
            "Present\n"
          ]
        }
      ]
    },
    {
      "cell_type": "markdown",
      "source": [
        "Program to generate random number by importing random library"
      ],
      "metadata": {
        "id": "YOoJCT6NRBSh"
      }
    },
    {
      "cell_type": "code",
      "source": [
        "import random\n",
        "num = random.random()\n",
        "print(num)"
      ],
      "metadata": {
        "colab": {
          "base_uri": "https://localhost:8080/"
        },
        "id": "fTj8pM6OFJVr",
        "outputId": "5eb5ea8f-7366-4c8c-c4f3-d0a94fcc666a"
      },
      "execution_count": null,
      "outputs": [
        {
          "output_type": "stream",
          "name": "stdout",
          "text": [
            "0.03135761470150389\n"
          ]
        }
      ]
    },
    {
      "cell_type": "markdown",
      "source": [
        "Program to append the nested list in the single list by using sum()"
      ],
      "metadata": {
        "id": "jGglSdbnRMaH"
      }
    },
    {
      "cell_type": "code",
      "source": [
        "list = [[1,12],[13,14],[15],[14,15]]\n",
        "flatlist = sum(list, [])\n",
        "print('new list',flatlist)\n"
      ],
      "metadata": {
        "colab": {
          "base_uri": "https://localhost:8080/"
        },
        "id": "zrjKa-ADJ0tn",
        "outputId": "74825915-1767-47b2-bf75-19a1505af39c"
      },
      "execution_count": null,
      "outputs": [
        {
          "output_type": "stream",
          "name": "stdout",
          "text": [
            "new list [1, 12, 13, 14, 15, 14, 15]\n"
          ]
        }
      ]
    },
    {
      "cell_type": "code",
      "source": [
        "lis = [[11, \"ant\", 33, 44], [55, 66, 77], [88, 99]]\n",
        "\n",
        "flatList = sum(lis, [])\n",
        "\n",
        "print('New list', flatList)\n"
      ],
      "metadata": {
        "colab": {
          "base_uri": "https://localhost:8080/"
        },
        "id": "bVPF2TjAK0Fu",
        "outputId": "cd842005-88d3-475d-a4ca-17876d6cc1f9"
      },
      "execution_count": null,
      "outputs": [
        {
          "output_type": "stream",
          "name": "stdout",
          "text": [
            "New list [11, 'ant', 33, 44, 55, 66, 77, 88, 99]\n"
          ]
        }
      ]
    },
    {
      "cell_type": "markdown",
      "source": [
        "Program to append the nested list in the single list by using built in function"
      ],
      "metadata": {
        "id": "z4bd9KbORa0U"
      }
    },
    {
      "cell_type": "code",
      "source": [
        "my_list = [[1], [2, 3], [4, 5, 6, 7]]\n",
        "\n",
        "flat_list = [num for sublist in my_list for num in sublist]\n",
        "print(flat_list)"
      ],
      "metadata": {
        "colab": {
          "base_uri": "https://localhost:8080/"
        },
        "id": "t4QjlFcXNW9-",
        "outputId": "d3d1b9c2-2167-46ab-8c1d-421a538b17ce"
      },
      "execution_count": null,
      "outputs": [
        {
          "output_type": "stream",
          "name": "stdout",
          "text": [
            "[1, 2, 3, 4, 5, 6, 7]\n"
          ]
        }
      ]
    }
  ],
  "metadata": {
    "colab": {
      "provenance": [],
      "toc_visible": true
    },
    "kernelspec": {
      "display_name": "Python 3",
      "name": "python3"
    },
    "language_info": {
      "name": "python"
    }
  },
  "nbformat": 4,
  "nbformat_minor": 0
}