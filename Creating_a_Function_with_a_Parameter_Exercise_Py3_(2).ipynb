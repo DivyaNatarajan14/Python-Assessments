{
  "cells": [
    {
      "cell_type": "markdown",
      "metadata": {
        "id": "bVPFooKv6cpR"
      },
      "source": [
        "## Creating a Function with a Parameter"
      ]
    },
    {
      "cell_type": "markdown",
      "metadata": {
        "id": "j9EqsL726cpe"
      },
      "source": [
        "Define a function that returns a value equal to its argument multiplied by 2."
      ]
    },
    {
      "cell_type": "code",
      "execution_count": 3,
      "metadata": {
        "collapsed": true,
        "id": "8NanF48V6cpf"
      },
      "outputs": [],
      "source": [
        "def fun(x):\n",
        "  y=x*2\n",
        "  print(y)\n",
        ""
      ]
    },
    {
      "cell_type": "code",
      "source": [
        "fun(5)"
      ],
      "metadata": {
        "colab": {
          "base_uri": "https://localhost:8080/"
        },
        "id": "z89MrI3z6riU",
        "outputId": "b77acabd-ce4f-4b3d-e310-d3a0963e7948"
      },
      "execution_count": 4,
      "outputs": [
        {
          "output_type": "stream",
          "name": "stdout",
          "text": [
            "10\n"
          ]
        }
      ]
    },
    {
      "cell_type": "markdown",
      "metadata": {
        "id": "zid5DHWY6cph"
      },
      "source": [
        "Define a funciton that returns a float value equal to its argument divided by 2."
      ]
    },
    {
      "cell_type": "code",
      "execution_count": 5,
      "metadata": {
        "collapsed": true,
        "colab": {
          "base_uri": "https://localhost:8080/"
        },
        "id": "sZzLuwSW6cpi",
        "outputId": "a3ff0cdd-ca77-4b61-810d-adaa7d4a04bb"
      },
      "outputs": [
        {
          "output_type": "stream",
          "name": "stdout",
          "text": [
            "11.4\n"
          ]
        }
      ],
      "source": [
        "fun(5.7)"
      ]
    }
  ],
  "metadata": {
    "anaconda-cloud": {},
    "kernelspec": {
      "display_name": "Python 3",
      "language": "python",
      "name": "python3"
    },
    "language_info": {
      "codemirror_mode": {
        "name": "ipython",
        "version": 3
      },
      "file_extension": ".py",
      "mimetype": "text/x-python",
      "name": "python",
      "nbconvert_exporter": "python",
      "pygments_lexer": "ipython3",
      "version": "3.6.4"
    },
    "colab": {
      "provenance": []
    }
  },
  "nbformat": 4,
  "nbformat_minor": 0
}