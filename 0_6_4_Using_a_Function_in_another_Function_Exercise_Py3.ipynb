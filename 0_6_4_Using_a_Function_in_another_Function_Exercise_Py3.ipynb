{
  "cells": [
    {
      "cell_type": "markdown",
      "metadata": {
        "id": "bNBz2EPx39bj"
      },
      "source": [
        "## Using a Function in Another Function"
      ]
    },
    {
      "cell_type": "markdown",
      "metadata": {
        "id": "fqOJx_8f39bl"
      },
      "source": [
        "Define a function that adds 5 to the parameter. Then, define another function that will multiply the newly obtained number by 3.\n",
        "Verify your code was correct by calling the second function with an argument of 5.\n",
        "Was your output equal to 30?"
      ]
    },
    {
      "cell_type": "code",
      "execution_count": null,
      "metadata": {
        "collapsed": true,
        "id": "x-sxZQzd39bm"
      },
      "outputs": [],
      "source": [
        "def add(x):\n",
        "  y=x+5\n",
        "  num=y*fun()\n"
      ]
    },
    {
      "cell_type": "code",
      "source": [
        "def add(in_fun):\n",
        "      return in_fun + 5\n",
        "def mul(in_fun):\n",
        "      return add(in_fun) * 3"
      ],
      "metadata": {
        "id": "EKAvcMSc5Mvt"
      },
      "execution_count": 7,
      "outputs": []
    },
    {
      "cell_type": "code",
      "source": [
        "add(5)\n",
        ""
      ],
      "metadata": {
        "colab": {
          "base_uri": "https://localhost:8080/"
        },
        "id": "CqyPOEQN56KW",
        "outputId": "78638eee-ebf7-4fc7-b513-28aa39af839e"
      },
      "execution_count": 8,
      "outputs": [
        {
          "output_type": "execute_result",
          "data": {
            "text/plain": [
              "10"
            ]
          },
          "metadata": {},
          "execution_count": 8
        }
      ]
    },
    {
      "cell_type": "code",
      "source": [
        " mul(5)"
      ],
      "metadata": {
        "colab": {
          "base_uri": "https://localhost:8080/"
        },
        "id": "2WsRWn_B59DD",
        "outputId": "e4bcffe3-c50b-4744-e2ad-11179678ec10"
      },
      "execution_count": 9,
      "outputs": [
        {
          "output_type": "execute_result",
          "data": {
            "text/plain": [
              "30"
            ]
          },
          "metadata": {},
          "execution_count": 9
        }
      ]
    }
  ],
  "metadata": {
    "anaconda-cloud": {},
    "kernelspec": {
      "display_name": "Python 3",
      "language": "python",
      "name": "python3"
    },
    "language_info": {
      "codemirror_mode": {
        "name": "ipython",
        "version": 3
      },
      "file_extension": ".py",
      "mimetype": "text/x-python",
      "name": "python",
      "nbconvert_exporter": "python",
      "pygments_lexer": "ipython3",
      "version": "3.6.4"
    },
    "colab": {
      "provenance": []
    }
  },
  "nbformat": 4,
  "nbformat_minor": 0
}